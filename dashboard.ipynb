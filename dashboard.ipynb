{
 "cells": [
  {
   "cell_type": "markdown",
   "metadata": {},
   "source": [
    "# Código do dashboard\n",
    "## Autores: Agnaldo B. Júnior e Pedro H. C. dos Santos"
   ]
  },
  {
   "cell_type": "code",
   "execution_count": 1,
   "metadata": {},
   "outputs": [],
   "source": [
    "import numpy as np\n",
    "import matplotlib.pyplot as plt"
   ]
  },
  {
   "cell_type": "code",
   "execution_count": 3,
   "metadata": {},
   "outputs": [],
   "source": [
    "import psycopg2\n",
    "necessaryKeys = [\"id\",\"ASIN\",\"title\",\"group\",\"salesrank\",\"similar\",\"categories\",\"reviews\"]\n",
    "\n",
    "con = psycopg2.connect( user = \"postgres\",\n",
    "                        password = \"postgres\",\n",
    "\t\t\t\t\t\thost = \"localhost\",\n",
    "\t\t\t\t\t\tport = \"5432\",\n",
    "\t\t\t\t\t\tdbname = \"amazon\")\n",
    "cursor = con.cursor()\n",
    "cursor.execute('DELETE FROM reviews;DELETE FROM product_category;DELETE FROM categories;DELETE FROM similars;DELETE FROM products;')\n",
    "con.commit()\n",
    "\n",
    "\n",
    "cursor.close()\n",
    "con.close()"
   ]
  }
 ],
 "metadata": {
  "kernelspec": {
   "display_name": "Python 3",
   "language": "python",
   "name": "python3"
  },
  "language_info": {
   "codemirror_mode": {
    "name": "ipython",
    "version": 3
   },
   "file_extension": ".py",
   "mimetype": "text/x-python",
   "name": "python",
   "nbconvert_exporter": "python",
   "pygments_lexer": "ipython3",
   "version": "3.7.3"
  }
 },
 "nbformat": 4,
 "nbformat_minor": 4
}
