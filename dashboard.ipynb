{
 "cells": [
  {
   "cell_type": "markdown",
   "metadata": {},
   "source": [
    "# Código do dashboard\n",
    "## Autores: Agnaldo B. Júnior e Pedro H. C. dos Santos"
   ]
  },
  {
   "cell_type": "code",
   "execution_count": 1,
   "metadata": {},
   "outputs": [
    {
     "name": "stderr",
     "output_type": "stream",
     "text": [
      "/home/pedro/anaconda3/lib/python3.7/site-packages/psycopg2/__init__.py:144: UserWarning: The psycopg2 wheel package will be renamed from release 2.8; in order to keep installing from binary please use \"pip install psycopg2-binary\" instead. For details see: <http://initd.org/psycopg/docs/install.html#binary-install-from-pypi>.\n",
      "  \"\"\")\n"
     ]
    }
   ],
   "source": [
    "import numpy as np\n",
    "import matplotlib.pyplot as plt\n",
    "import psycopg2"
   ]
  },
  {
   "cell_type": "markdown",
   "metadata": {},
   "source": [
    "### Questão 5a:"
   ]
  },
  {
   "cell_type": "code",
   "execution_count": 2,
   "metadata": {},
   "outputs": [],
   "source": [
    "def getHelpfulReviews(asin, con):\n",
    "    cursor = con.cursor()\n",
    "    cursor.execute('''select * from (\n",
    "                  (select * from products join reviews r on products.asin = r.product_asin where asin='{}' order by helpful DESC , rating DESC LIMIT 5)\n",
    "                  union all\n",
    "                  (select * from products join reviews r on products.asin = r.product_asin where asin='{}' order by rating DESC ,helpful DESC  LIMIT 5)\n",
    "              ) result;'''.format(asin,asin))\n",
    "    rows = cursor.fetchall()\n",
    "    cursor.close()\n",
    "    con.close()\n",
    "    return rows"
   ]
  },
  {
   "cell_type": "markdown",
   "metadata": {},
   "source": [
    "### Questao 5b:"
   ]
  },
  {
   "cell_type": "code",
   "execution_count": 3,
   "metadata": {},
   "outputs": [],
   "source": [
    "def getSimilarsWithMostSalesrank(asin, con):\n",
    "    cursor = con.cursor()\n",
    "    cursor.execute('''select * from (similars JOIN products ON similars.asin_1 = products.asin) AS result\n",
    "    JOIN products ON result.asin_2 = products.asin  where asin_1='{}' and result.salesrank < products.salesrank;'''.format(asin))\n",
    "    rows = cursor.fetchall()\n",
    "    cursor.close()\n",
    "    con.close()\n",
    "    return rows\n",
    "# getSimilarsWithMostSalesrank('0738700797')"
   ]
  },
  {
   "cell_type": "markdown",
   "metadata": {},
   "source": [
    "### Questao 5c:"
   ]
  },
  {
   "cell_type": "code",
   "execution_count": 4,
   "metadata": {},
   "outputs": [],
   "source": [
    "def getProductAvgTimeline(asin, con):\n",
    "    cursor = con.cursor()\n",
    "    cursor.execute('''select date,rating from products join reviews r on products.asin = r.product_asin where asin='{}' order by date;'''.format(asin))\n",
    "    rows = cursor.fetchall()\n",
    "    cursor.close()\n",
    "    con.close()\n",
    "    ratings = []\n",
    "    for index in range(0,len(rows)):\n",
    "        avg = 0\n",
    "        for j in range(0,index+1):\n",
    "            avg += rows[j][1]\n",
    "        avg = avg/(index+1)\n",
    "        ratings.append((rows[index][0],avg))\n",
    "    return ratings\n",
    "# getProductAvgTimeline('0738700797')"
   ]
  },
  {
   "cell_type": "markdown",
   "metadata": {},
   "source": [
    "### Questao 5d:"
   ]
  },
  {
   "cell_type": "code",
   "execution_count": 5,
   "metadata": {},
   "outputs": [],
   "source": [
    "def getTop10ProductsOfEachGroup(con):\n",
    "    cursor = con.cursor()\n",
    "    cursor.execute('''SELECT * FROM (\n",
    "                SELECT *, rank() OVER (\n",
    "                    PARTITION BY products.\"group\"\n",
    "                    ORDER BY products.salesrank DESC\n",
    "                )\n",
    "                FROM products\n",
    "                WHERE salesrank notnull\n",
    "                ) jobs WHERE  RANK <=10;''')\n",
    "    rows = cursor.fetchall()\n",
    "    cursor.close()\n",
    "    con.close()\n",
    "    return rows\n",
    "# getTop10ProductsOfEachGroup()"
   ]
  },
  {
   "cell_type": "markdown",
   "metadata": {},
   "source": [
    "### Questao 5e:"
   ]
  },
  {
   "cell_type": "code",
   "execution_count": 6,
   "metadata": {},
   "outputs": [],
   "source": [
    "def getTop10ProductsWithMostRatingAVG(con):\n",
    "    cursor = con.cursor()\n",
    "    cursor.execute('''SELECT asin,title,avg(helpful) FROM products join reviews r on products.asin = r.product_asin \n",
    "    GROUP BY (asin,title) order by avg(helpful) DESC LIMIT 10;''')\n",
    "    rows = cursor.fetchall()\n",
    "    cursor.close()\n",
    "    con.close()\n",
    "    return rows\n",
    "# getTop10ProductsWithMostRatingAVG()"
   ]
  },
  {
   "cell_type": "markdown",
   "metadata": {},
   "source": [
    "### Questao 5f:"
   ]
  },
  {
   "cell_type": "code",
   "execution_count": 7,
   "metadata": {},
   "outputs": [],
   "source": [
    "def getTop5CategoriesWithMostRating(con):\n",
    "    cursor = con.cursor()\n",
    "    cursor.execute('''select category_id,name,avg\n",
    "        from (\n",
    "         SELECT category_id, avg(helpful)\n",
    "         FROM products\n",
    "                  join reviews r on products.asin = r.product_asin\n",
    "                  join product_category pc on products.asin = pc.product_asin\n",
    "                  join categories c on pc.category_id = c.id\n",
    "         group by (category_id)\n",
    "         order by avg(helpful) desc\n",
    "         limit 5\n",
    "        ) result join categories on category_id=id;''')\n",
    "    rows = cursor.fetchall()\n",
    "    cursor.close()\n",
    "    con.close()\n",
    "    return rows\n",
    "# getTop5CategoriesWithMostRating()"
   ]
  },
  {
   "cell_type": "markdown",
   "metadata": {},
   "source": [
    "### Questao 5g:"
   ]
  },
  {
   "cell_type": "code",
   "execution_count": 8,
   "metadata": {},
   "outputs": [],
   "source": [
    "def get10CustomersWithMostReviewsForEachGroup(con):\n",
    "    cursor = con.cursor()\n",
    "    cursor.execute('''SELECT customer,\"group\",count FROM (\n",
    "                SELECT *, row_number()  OVER (\n",
    "                    PARTITION BY \"group\"\n",
    "                    ORDER BY count DESC\n",
    "                )\n",
    "                FROM ( SELECT count(customer),customer,\"group\" FROM reviews,products WHERE product_asin = asin GROUP BY customer,\"group\" ORDER BY \"group\",count(customer) DESC) xuei\n",
    "            ) jobs WHERE row_number <= 10;''')\n",
    "    rows = cursor.fetchall()\n",
    "    cursor.close()\n",
    "    con.close()\n",
    "    return rows\n",
    "# get10CustomersWithMostReviewsForEachGroup()"
   ]
  },
  {
   "cell_type": "code",
   "execution_count": 9,
   "metadata": {},
   "outputs": [],
   "source": [
    "def create_connection(user, password, host, port, dbname):\n",
    "    con = psycopg2.connect( user = user,\n",
    "                        password = password,\n",
    "                        host = host,\n",
    "                        port = port,\n",
    "                        dbname = dbname)\n",
    "    return con"
   ]
  },
  {
   "cell_type": "code",
   "execution_count": 10,
   "metadata": {},
   "outputs": [],
   "source": [
    "# print(\"Insira os parâmetros da conexão: Usuário, senha, endereço do servidor, porta, nome da database\")\n",
    "# print(\"Porta padrão é 5432\")\n",
    "# user = input(\"Usuário\")\n",
    "# password = input(\"Senha\")\n",
    "# host = input(\"Endereço\")\n",
    "# port = input(\"Porta\")\n",
    "# dbname = input(\"Nome da database\")\n",
    "user = \"postgres\"\n",
    "password = \"postgres\"\n",
    "host = \"localhost\"\n",
    "port = \"5432\"\n",
    "dbname = \"amazon\""
   ]
  },
  {
   "cell_type": "markdown",
   "metadata": {},
   "source": [
    "## Resultados:"
   ]
  },
  {
   "cell_type": "code",
   "execution_count": 79,
   "metadata": {},
   "outputs": [],
   "source": [
    "from matplotlib.pyplot import figure"
   ]
  },
  {
   "cell_type": "code",
   "execution_count": 159,
   "metadata": {},
   "outputs": [
    {
     "name": "stdout",
     "output_type": "stream",
     "text": [
      "Comentários mais úteis e com maior avaliação e mais úteis com menos avaliação:\n",
      "| Customer: A2P6KAWXJ16234 | Rating: 4 | ASIN: 0738700797 |\n",
      "\n",
      "| Customer: A1CP26N8RHYVVO | Rating: 1 | ASIN: 0738700797 |\n",
      "\n",
      "| Customer: A13SG9ACZ9O5IM | Rating: 5 | ASIN: 0738700797 |\n",
      "\n",
      "| Customer: A1GIL64QK68WKL | Rating: 5 | ASIN: 0738700797 |\n",
      "\n",
      "| Customer: A3GO7UV9XX14D8 | Rating: 4 | ASIN: 0738700797 |\n",
      "\n",
      "| Customer: A1GIL64QK68WKL | Rating: 5 | ASIN: 0738700797 |\n",
      "\n",
      "| Customer: A13SG9ACZ9O5IM | Rating: 5 | ASIN: 0738700797 |\n",
      "\n",
      "| Customer: A3IGHTES8ME05L | Rating: 5 | ASIN: 0738700797 |\n",
      "\n",
      "| Customer: AEOBOF2ONQJWV | Rating: 5 | ASIN: 0738700797 |\n",
      "\n",
      "| Customer: A11NCO6YTE4BTJ | Rating: 5 | ASIN: 0738700797 |\n",
      "\n"
     ]
    }
   ],
   "source": [
    "#5 a)\n",
    "print(\"\\nResultados da query 5 - a)\")\n",
    "con = create_connection(user,password,host,port,dbname)\n",
    "result = getHelpfulReviews('0738700797', con)\n",
    "print(\"Comentários mais úteis e com maior avaliação e mais úteis com menos avaliação:\")\n",
    "for product in result:\n",
    "    print(\"| Customer: {} | Rating: {} | ASIN: {} |\\n\".format(product[7],product[8],product[1]))\n",
    "    \n",
    "input(\"Pressiona qualquer tecla para a próxima query\")"
   ]
  },
  {
   "cell_type": "code",
   "execution_count": 175,
   "metadata": {},
   "outputs": [
    {
     "data": {
      "image/png": "[encoded data removed]",
      "text/plain": [
       "<Figure size 1116x756 with 1 Axes>"
      ]
     },
     "metadata": {
      "needs_background": "light"
     },
     "output_type": "display_data"
    }
   ],
   "source": [
    "#5 b)\n",
    "con = create_connection(user,password,host,port,dbname)\n",
    "result = getSimilarsWithMostSalesrank('0738700797',con)\n",
    "\n",
    "result = [('0738700797', '0738700827', 2, '0738700797', 'Candlemas: Feast of Flames', 'Book', 168596, 454888, '0738700827', 'Ostara: Customs, Spells & Rituals for the Rites of Spring', 'Book', 311254), \n",
    "('0738700797', '1567182836', 2, '0738700797', 'Candlemas: Feast of Flames', 'Book', 168596, 411179, '1567182836', 'Beltane: Springtime Rituals, Lore and Celebration', 'Book', 280541)]\n",
    "\n",
    "axis = np.array([([x[8],x[-1]]) for x in result])\n",
    "x = [x[0] for x in axis]\n",
    "x.append(\"Produto da query: {}\".format(result[0][0]))\n",
    "y = [int(y[1]) for y in axis]\n",
    "y.append(result[0][6])\n",
    "plt.xlabel(\"Produto\")\n",
    "plt.ylabel(\"SalesRank\")\n",
    "plt.title(\"Questão 5 - b\")\n",
    "plt.bar(x,y)\n",
    "fig = plt.gcf()\n",
    "fig.set_size_inches(15.5, 10.5, forward=True)\n",
    "plt.show()\n",
    "input(\"Pressiona qualquer tecla para a próxima query\")"
   ]
  },
  {
   "cell_type": "code",
   "execution_count": 170,
   "metadata": {},
   "outputs": [
    {
     "data": {
      "image/png": "[encoded data removed]",
      "text/plain": [
       "<Figure size 1116x756 with 1 Axes>"
      ]
     },
     "metadata": {
      "needs_background": "light"
     },
     "output_type": "display_data"
    }
   ],
   "source": [
    "#5 c)\n",
    "con = create_connection(user,password,host,port,dbname)\n",
    "result = getProductAvgTimeline('0738700797',con)\n",
    "axis = np.array([([x[0],x[1]]) for x in result])\n",
    "x = [x[0] for x in axis]\n",
    "y = [y[1] for y in axis]\n",
    "plt.xlabel(\"Data\")\n",
    "plt.ylabel(\"Média de avaliação\")\n",
    "\n",
    "\n",
    "plt.plot(x,y)\n",
    "fig = plt.gcf()\n",
    "plt.title(\"Questão 5 - c\")\n",
    "fig.set_size_inches(15.5, 10.5, forward=True)\n",
    "plt.show()\n",
    "input(\"Pressiona qualquer tecla para a próxima query\")"
   ]
  },
  {
   "cell_type": "code",
   "execution_count": 169,
   "metadata": {},
   "outputs": [
    {
     "name": "stdout",
     "output_type": "stream",
     "text": [
      "\n",
      "10 Produtos líderes de venda para Book :\n",
      "    1o: 2994, Nome: Chinese History and Literature : Collection of Studies\n",
      "    2o: 440, Nome: Sterile Pharmaceutical Packaging: Compatibility and Stability: Technical Report 5\n",
      "    3o: 2542, Nome: Base Ten Activities (30110)\n",
      "    4o: 3265, Nome: Single-Tier Steel Bracket Library Shelving (National Information Standards Series, Ansi/Niso Z39.73-1994)\n",
      "    5o: 3016, Nome: Hechos Acerca de Guias Espiritual / Facts on Spirit Guide\n",
      "    6o: 3372, Nome: Oilsands: Heavy Oil and the Environment\n",
      "    7o: 1746, Nome: Cahiers de Droit Fiscal International:Form and Substance in Tax Law (Cahiers De Droit Fiscal International)\n",
      "    8o: 984, Nome: Selections from \"\"Fiddler on the Roof\"\" / Tenor Sax\"\n",
      "    9o: 1341, Nome: Miracle of Marriage\n",
      "    10o: 116, Nome: The Life of Benjamin West\n",
      "\n",
      "10 Produtos líderes de venda para DVD :\n",
      "    1o: 1927, Nome: Strauss:The Magic of Vienna\n",
      "    2o: 1412, Nome: Camelot (Animated)\n",
      "    3o: 823, Nome: Stalker\n",
      "    4o: 1067, Nome: Kurogane Communication - Future Horizon (Episodes 17-24)\n",
      "    5o: 179, Nome: Africa Screams/Jack & The Bean\n",
      "    6o: 2166, Nome: Apollo 16: Complete Downlink Edition\n",
      "    7o: 152, Nome: NASA, Pt. 1 & 2\n",
      "    8o: 2395, Nome: Groupies\n",
      "    9o: 856, Nome: W.C. Fields\n",
      "    10o: 149, Nome: Pot O' Gold/Made for Each Other\n",
      "\n",
      "10 Produtos líderes de venda para Music :\n",
      "    1o: 1363, Nome: Serie 2 Em 1 V.1\n",
      "    2o: 2817, Nome: Rhythm N Cruise: Speed Garage in Overdri\n",
      "    3o: 2583, Nome: Beto Jamaica & Os Irmaos Jamaica: Ao Viv\n",
      "    4o: 1031, Nome: Brother To Brother\n",
      "    5o: 2248, Nome: The Ladder\n",
      "    6o: 1030, Nome: Friends\n",
      "    7o: 1792, Nome: The Depeche Mode Biography and Interview\n",
      "    8o: 1811, Nome: Bienvenido a Casa\n",
      "    9o: 1930, Nome: Born into Trouble as the Sparks Fly Upward\n",
      "    10o: 939, Nome: Down Ass Chick/Smokin' and Ridin'\n",
      "\n",
      "10 Produtos líderes de venda para Toy :\n",
      "    1o: 922, Nome: Party Tyme Karaoke CD Kids Songs\n",
      "\n",
      "10 Produtos líderes de venda para Video :\n",
      "    1o: 589, Nome: Hap Ki Do #4\n",
      "    2o: 2668, Nome: Washington/Seattle/Travelling Ame\n",
      "    3o: 205, Nome: Nights And Days (Noce i Dnie)\n",
      "    4o: 2929, Nome: Shalom Shabbat\n",
      "    5o: 730, Nome: France\n",
      "    6o: 1272, Nome: Smilla's Sense of Snow\n",
      "    7o: 3498, Nome: 3D Studio Max - Beyond the Basics Series - NURBS\n",
      "    8o: 2035, Nome: The Bell Telephone Hour: Birgit Nilsson\n",
      "    9o: 1289, Nome: Intimate Loving: Seduction For Lovers\n",
      "    10o: 1891, Nome: Extreme Chan Action Pack (First Strike/Mr. Nice Guy/Rumble in the Truck/Rescue Vehicle)\n"
     ]
    }
   ],
   "source": [
    "#5 d)\n",
    "print(\"\\nResultados da query 5 - d)\")\n",
    "con = create_connection(user,password,host,port,dbname)\n",
    "result = getTop10ProductsOfEachGroup(con)\n",
    "dictClt = {}\n",
    "for i in result:\n",
    "    if i[3] not in dictClt:\n",
    "        dictClt[i[3]] = [[i[0],i[2]]]\n",
    "    else:\n",
    "        dictClt[i[3]].append([i[0],i[2]])\n",
    "\n",
    "for group in dictClt:\n",
    "    print(\"\\n10 Produtos líderes de venda para {} :\".format(group))\n",
    "    clts = dictClt[group]\n",
    "    idx = 1\n",
    "    for clt in clts:\n",
    "        print(\"    {}o: {}, Nome: {}\".format(idx,clt[0],clt[1]))\n",
    "        idx += 1\n",
    "input(\"Pressiona qualquer tecla para a próxima query\")"
   ]
  },
  {
   "cell_type": "code",
   "execution_count": 167,
   "metadata": {},
   "outputs": [
    {
     "data": {
      "image/png": "[encoded data removed]",
      "text/plain": [
       "<Figure size 1116x756 with 1 Axes>"
      ]
     },
     "metadata": {
      "needs_background": "light"
     },
     "output_type": "display_data"
    }
   ],
   "source": [
    "#5 e)\n",
    "con = create_connection(user,password,host,port,dbname)\n",
    "result = getTop10ProductsWithMostRatingAVG(con)\n",
    "\n",
    "axis = np.array([([x[0],x[2]]) for x in result])\n",
    "x = [x[0] for x in axis]\n",
    "y = [y[1] for y in axis]\n",
    "plt.xlabel(\"Produto\")\n",
    "plt.ylabel(\"Média de avaliações\")\n",
    "\n",
    "\n",
    "plt.bar(x,y)\n",
    "fig = plt.gcf()\n",
    "# fig.savefig('images/5-d', dpi=100)\n",
    "plt.title(\"Questão 5 - e\")\n",
    "fig.set_size_inches(15.5, 10.5, forward=True)\n",
    "plt.show()\n",
    "input(\"Pressiona qualquer tecla para a próxima query\")"
   ]
  },
  {
   "cell_type": "code",
   "execution_count": 176,
   "metadata": {},
   "outputs": [
    {
     "data": {
      "image/png": "[encoded data removed]",
      "text/plain": [
       "<Figure size 1332x756 with 1 Axes>"
      ]
     },
     "metadata": {
      "needs_background": "light"
     },
     "output_type": "display_data"
    }
   ],
   "source": [
    "#5 f)\n",
    "con = create_connection(user,password,host,port,dbname)\n",
    "result = np.array(getTop5CategoriesWithMostRating(con))\n",
    "\n",
    "axis = np.array([([x[1],x[2]]) for x in result])\n",
    "x = [x[0] for x in axis]\n",
    "y = [y[1] for y in axis]\n",
    "plt.xlabel(\"Categorias\")\n",
    "plt.ylabel(\"Média de avaliações\")\n",
    "plt.title(\"Questão 5 - f\")\n",
    "plt.bar(x,y)\n",
    "fig = plt.gcf()\n",
    "fig.set_size_inches(18.5, 10.5, forward=True)\n",
    "plt.show()\n",
    "input(\"Pressiona qualquer tecla para a próxima query\")"
   ]
  },
  {
   "cell_type": "code",
   "execution_count": 90,
   "metadata": {},
   "outputs": [
    {
     "name": "stdout",
     "output_type": "stream",
     "text": [
      "\n",
      "10 clientes com mais comentários para Book :\n",
      "    1o: ATVPDKIKX0DER, comentários: 90\n",
      "    2o: A3UN6WX5RRO2AG, comentários: 6\n",
      "    3o: A2LSGO83D82U1, comentários: 4\n",
      "    4o: A3FA90E7KX99JK, comentários: 4\n",
      "    5o: AFVQZQ8PW0L, comentários: 3\n",
      "    6o: AVEQ3PD3CGLPN, comentários: 3\n",
      "    7o: A1AV32Q6I8M1LX, comentários: 3\n",
      "    8o: A3IPNX3AJUY5JO, comentários: 3\n",
      "    9o: A37BASUCZG1WC9, comentários: 3\n",
      "    10o: A14OJS0VWMOSWO, comentários: 3\n",
      "\n",
      "10 clientes com mais comentários para DVD :\n",
      "    1o: ATVPDKIKX0DER, comentários: 10\n",
      "    2o: A375OT7C8ZJCNU, comentários: 4\n",
      "    3o: A20EEWWSFMZ1PN, comentários: 2\n",
      "    4o: AYPCUQS6ARWFH, comentários: 2\n",
      "    5o: A3UN6WX5RRO2AG, comentários: 2\n",
      "    6o: AOK51PED51KHN, comentários: 2\n",
      "    7o: A2NJO6YE954DBH, comentários: 2\n",
      "    8o: A14QW3EMN8PBZV, comentários: 2\n",
      "    9o: A3P121GNV5QYIN, comentários: 2\n",
      "    10o: A26TSW6AI59ZCV, comentários: 2\n",
      "\n",
      "10 clientes com mais comentários para Music :\n",
      "    1o: ATVPDKIKX0DER, comentários: 4\n",
      "    2o: A3KY46BJAF8IPK, comentários: 2\n",
      "    3o: A1HNKSWGRW0YKB, comentários: 2\n",
      "    4o: A3SS0AKYF0VEQ4, comentários: 2\n",
      "    5o: AKMBV0IV5WIC5, comentários: 2\n",
      "    6o: A3EZ2PLA8AFPIF, comentários: 1\n",
      "    7o: A3SWAHVVHVPKWZ, comentários: 1\n",
      "    8o: A3QSUZVVNYZZ7L, comentários: 1\n",
      "    9o: A3VR78VQ8UB16E, comentários: 1\n",
      "    10o: A1BU9URWNOZ7S, comentários: 1\n",
      "\n",
      "10 clientes com mais comentários para Video :\n",
      "    1o: ATVPDKIKX0DER, comentários: 29\n",
      "    2o: A3UN6WX5RRO2AG, comentários: 5\n",
      "    3o: A3N3SN2DDD4HCJ, comentários: 3\n",
      "    4o: AHZSEBTU0H63N, comentários: 2\n",
      "    5o: A3HACSQO6Y6YOX, comentários: 2\n",
      "    6o: AHIQNPZUXCAFF, comentários: 2\n",
      "    7o: A3MCC5MAJYJYMD, comentários: 1\n",
      "    8o: A2FBJK2NDAD5M0, comentários: 1\n",
      "    9o: A2736CHF0SS3L8, comentários: 1\n",
      "    10o: A15BPLFHIC8Q2B, comentários: 1\n"
     ]
    }
   ],
   "source": [
    "#5 g)\n",
    "print(\"\\nResultados da query 5 - g)\")\n",
    "con = create_connection(user,password,host,port,dbname)\n",
    "result = np.array(get10CustomersWithMostReviewsForEachGroup(con))\n",
    "dictClt = {}\n",
    "for i in result:\n",
    "    if i[1] not in dictClt:\n",
    "        dictClt[i[1]] = [[i[0],i[2]]]\n",
    "    else:\n",
    "        dictClt[i[1]].append([i[0],i[2]])\n",
    "\n",
    "for group in dictClt:\n",
    "    print(\"\\n10 clientes com mais comentários para {} :\".format(group))\n",
    "    clts = dictClt[group]\n",
    "    idx = 1\n",
    "    for clt in clts:\n",
    "        print(\"    {}o: {}, comentários: {}\".format(idx,clt[0],clt[1]))\n",
    "        idx += 1\n",
    "input(\"Pressiona qualquer tecla para a próxima query\")"
   ]
  }
 ],
 "metadata": {
  "kernelspec": {
   "display_name": "Python 3",
   "language": "python",
   "name": "python3"
  },
  "language_info": {
   "codemirror_mode": {
    "name": "ipython",
    "version": 3
   },
   "file_extension": ".py",
   "mimetype": "text/x-python",
   "name": "python",
   "nbconvert_exporter": "python",
   "pygments_lexer": "ipython3",
   "version": "3.7.3"
  }
 },
 "nbformat": 4,
 "nbformat_minor": 4
}
