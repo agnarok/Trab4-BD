{
 "cells": [
  {
   "cell_type": "markdown",
   "metadata": {},
   "source": [
    "# Código do dashboard\n",
    "## Autores: Agnaldo B. Júnior e Pedro H. C. dos Santos"
   ]
  },
  {
   "cell_type": "code",
   "execution_count": 1,
   "metadata": {},
   "outputs": [
    {
     "name": "stderr",
     "output_type": "stream",
     "text": [
      "/home/pedro/anaconda3/lib/python3.7/site-packages/psycopg2/__init__.py:144: UserWarning: The psycopg2 wheel package will be renamed from release 2.8; in order to keep installing from binary please use \"pip install psycopg2-binary\" instead. For details see: <http://initd.org/psycopg/docs/install.html#binary-install-from-pypi>.\n",
      "  \"\"\")\n"
     ]
    }
   ],
   "source": [
    "import numpy as np\n",
    "import matplotlib.pyplot as plt\n",
    "import psycopg2"
   ]
  },
  {
   "cell_type": "markdown",
   "metadata": {},
   "source": [
    "### Questão 5a:"
   ]
  },
  {
   "cell_type": "code",
   "execution_count": 2,
   "metadata": {},
   "outputs": [],
   "source": [
    "def getHelpfulReviews(asin, con):\n",
    "    cursor = con.cursor()\n",
    "    cursor.execute('''select * from (\n",
    "                  (select * from products join reviews r on products.asin = r.product_asin where asin='{}' order by helpful DESC , rating DESC LIMIT 5)\n",
    "                  union all\n",
    "                  (select * from products join reviews r on products.asin = r.product_asin where asin='{}' order by rating DESC ,helpful DESC  LIMIT 5)\n",
    "              ) result;'''.format(asin,asin))\n",
    "    rows = cursor.fetchall()\n",
    "    cursor.close()\n",
    "    con.close()\n",
    "    return rows"
   ]
  },
  {
   "cell_type": "markdown",
   "metadata": {},
   "source": [
    "### Questao 5b:"
   ]
  },
  {
   "cell_type": "code",
   "execution_count": 3,
   "metadata": {},
   "outputs": [],
   "source": [
    "def getSimilarsWithMostSalesrank(asin, con):\n",
    "    cursor = con.cursor()\n",
    "    cursor.execute('''select * from (similars JOIN products ON similars.asin_1 = products.asin) AS result\n",
    "    JOIN products ON result.asin_2 = products.asin  where asin_1='{}' and result.salesrank < products.salesrank;'''.format(asin))\n",
    "    rows = cursor.fetchall()\n",
    "    cursor.close()\n",
    "    con.close()\n",
    "    return rows\n",
    "# getSimilarsWithMostSalesrank('0738700797')"
   ]
  },
  {
   "cell_type": "markdown",
   "metadata": {},
   "source": [
    "### Questao 5c:"
   ]
  },
  {
   "cell_type": "code",
   "execution_count": 4,
   "metadata": {},
   "outputs": [],
   "source": [
    "def getProductAvgTimeline(asin, con):\n",
    "    cursor = con.cursor()\n",
    "    cursor.execute('''select date,rating from products join reviews r on products.asin = r.product_asin where asin='{}' order by date;'''.format(asin))\n",
    "    rows = cursor.fetchall()\n",
    "    cursor.close()\n",
    "    con.close()\n",
    "    ratings = []\n",
    "    for index in range(0,len(rows)):\n",
    "        avg = 0\n",
    "        for j in range(0,index+1):\n",
    "            avg += rows[j][1]\n",
    "        avg = avg/(index+1)\n",
    "        ratings.append((rows[index][0],avg))\n",
    "    return ratings\n",
    "# getProductAvgTimeline('0738700797')"
   ]
  },
  {
   "cell_type": "markdown",
   "metadata": {},
   "source": [
    "### Questao 5d:"
   ]
  },
  {
   "cell_type": "code",
   "execution_count": 5,
   "metadata": {},
   "outputs": [],
   "source": [
    "def getTop10ProductsOfEachGroup(con):\n",
    "    cursor = con.cursor()\n",
    "    cursor.execute('''SELECT * FROM (\n",
    "                SELECT *, rank() OVER (\n",
    "                    PARTITION BY products.\"group\"\n",
    "                    ORDER BY products.salesrank DESC\n",
    "                )\n",
    "                FROM products\n",
    "                WHERE salesrank notnull\n",
    "                ) jobs WHERE  RANK <=10;''')\n",
    "    rows = cursor.fetchall()\n",
    "    cursor.close()\n",
    "    con.close()\n",
    "    return rows\n",
    "# getTop10ProductsOfEachGroup()"
   ]
  },
  {
   "cell_type": "markdown",
   "metadata": {},
   "source": [
    "### Questao 5e:"
   ]
  },
  {
   "cell_type": "code",
   "execution_count": 6,
   "metadata": {},
   "outputs": [],
   "source": [
    "def getTop10ProductsWithMostRatingAVG(con):\n",
    "    cursor = con.cursor()\n",
    "    cursor.execute('''SELECT asin,title,avg(helpful) FROM products join reviews r on products.asin = r.product_asin \n",
    "    GROUP BY (asin,title) order by avg(helpful) DESC LIMIT 10;''')\n",
    "    rows = cursor.fetchall()\n",
    "    cursor.close()\n",
    "    con.close()\n",
    "    return rows\n",
    "# getTop10ProductsWithMostRatingAVG()"
   ]
  },
  {
   "cell_type": "markdown",
   "metadata": {},
   "source": [
    "### Questao 5f:"
   ]
  },
  {
   "cell_type": "code",
   "execution_count": 7,
   "metadata": {},
   "outputs": [],
   "source": [
    "def getTop5CategoriesWithMostRating(con):\n",
    "    cursor = con.cursor()\n",
    "    cursor.execute('''select category_id,name,avg\n",
    "        from (\n",
    "         SELECT category_id, avg(helpful)\n",
    "         FROM products\n",
    "                  join reviews r on products.asin = r.product_asin\n",
    "                  join product_category pc on products.asin = pc.product_asin\n",
    "                  join categories c on pc.category_id = c.id\n",
    "         group by (category_id)\n",
    "         order by avg(helpful) desc\n",
    "         limit 5\n",
    "        ) result join categories on category_id=id;''')\n",
    "    rows = cursor.fetchall()\n",
    "    cursor.close()\n",
    "    con.close()\n",
    "    return rows\n",
    "# getTop5CategoriesWithMostRating()"
   ]
  },
  {
   "cell_type": "markdown",
   "metadata": {},
   "source": [
    "### Questao 5g:"
   ]
  },
  {
   "cell_type": "code",
   "execution_count": 8,
   "metadata": {},
   "outputs": [],
   "source": [
    "def get10CustomersWithMostReviewsForEachGroup(con):\n",
    "    cursor = con.cursor()\n",
    "    cursor.execute('''SELECT customer,\"group\",count FROM (\n",
    "                SELECT *, row_number()  OVER (\n",
    "                    PARTITION BY \"group\"\n",
    "                    ORDER BY count DESC\n",
    "                )\n",
    "                FROM ( SELECT count(customer),customer,\"group\" FROM reviews,products WHERE product_asin = asin GROUP BY customer,\"group\" ORDER BY \"group\",count(customer) DESC) xuei\n",
    "            ) jobs WHERE row_number <= 10;''')\n",
    "    rows = cursor.fetchall()\n",
    "    cursor.close()\n",
    "    con.close()\n",
    "    return rows\n",
    "# get10CustomersWithMostReviewsForEachGroup()"
   ]
  },
  {
   "cell_type": "code",
   "execution_count": 9,
   "metadata": {},
   "outputs": [],
   "source": [
    "def create_connection(user, password, host, port, dbname):\n",
    "    con = psycopg2.connect( user = user,\n",
    "                        password = password,\n",
    "                        host = host,\n",
    "                        port = port,\n",
    "                        dbname = dbname)\n",
    "    return con"
   ]
  },
  {
   "cell_type": "code",
   "execution_count": 10,
   "metadata": {},
   "outputs": [],
   "source": [
    "# print(\"Insira os parâmetros da conexão: Usuário, senha, endereço do servidor, porta, nome da database\")\n",
    "# print(\"Porta padrão é 5432\")\n",
    "# user = input(\"Usuário\")\n",
    "# password = input(\"Senha\")\n",
    "# host = input(\"Endereço\")\n",
    "# port = input(\"Porta\")\n",
    "# dbname = input(\"Nome da database\")\n",
    "user = \"postgres\"\n",
    "password = \"postgres\"\n",
    "host = \"localhost\"\n",
    "port = \"5432\"\n",
    "dbname = \"amazon\""
   ]
  },
  {
   "cell_type": "markdown",
   "metadata": {},
   "source": [
    "## Resultados:"
   ]
  },
  {
   "cell_type": "code",
   "execution_count": 14,
   "metadata": {},
   "outputs": [],
   "source": [
    "#5 a)\n",
    "con = create_connection(user,password,host,port,dbname)\n",
    "result = getHelpfulReviews('0738700797', con)"
   ]
  },
  {
   "cell_type": "code",
   "execution_count": 12,
   "metadata": {},
   "outputs": [],
   "source": [
    "#5 b)\n",
    "con = create_connection(user,password,host,port,dbname)\n",
    "result = getSimilarsWithMostSalesrank('0738700797',con)\n"
   ]
  },
  {
   "cell_type": "code",
   "execution_count": null,
   "metadata": {},
   "outputs": [],
   "source": [
    "#5 c)\n",
    "con = create_connection(user,password,host,port,dbname)\n",
    "result = getProductAvgTimeline('0738700797',con)"
   ]
  },
  {
   "cell_type": "code",
   "execution_count": null,
   "metadata": {},
   "outputs": [],
   "source": [
    "#5 d)\n",
    "con = create_connection(user,password,host,port,dbname)\n",
    "result = getTop10ProductsOfEachGroup(con)"
   ]
  },
  {
   "cell_type": "code",
   "execution_count": null,
   "metadata": {},
   "outputs": [],
   "source": [
    "#5 e)\n",
    "con = create_connection(user,password,host,port,dbname)\n",
    "result = getTop10ProductsWithMostRatingAVG(con)"
   ]
  },
  {
   "cell_type": "code",
   "execution_count": null,
   "metadata": {},
   "outputs": [],
   "source": [
    "#5 f)\n",
    "con = create_connection(user,password,host,port,dbname)\n",
    "result = getTop5CategoriesWithMostRating(con)"
   ]
  },
  {
   "cell_type": "code",
   "execution_count": 39,
   "metadata": {},
   "outputs": [],
   "source": [
    "#5 g)\n",
    "con = create_connection(user,password,host,port,dbname)\n",
    "result = np.array(get10CustomersWithMostReviewsForEachGroup(con))"
   ]
  },
  {
   "cell_type": "code",
   "execution_count": 83,
   "metadata": {},
   "outputs": [
    {
     "name": "stdout",
     "output_type": "stream",
     "text": [
      "\n",
      "10 clientes com mais comentários para Book :\n",
      "    1o: ATVPDKIKX0DER\n",
      "    2o: A3UN6WX5RRO2AG\n",
      "    3o: A14OJS0VWMOSWO\n",
      "    4o: AFVQZQ8PW0L\n",
      "    5o: A2BGGOF7MYBYOM\n",
      "    6o: A1IX3X8IVQ237L\n",
      "    7o: A3GBMAJNL0YQ1K\n",
      "    8o: A2VNZA22F2QTD8\n",
      "    9o: A1K1JW1C5CUSUZ\n",
      "    10o: A2NJO6YE954DBH\n",
      "\n",
      "10 clientes com mais comentários para DVD :\n",
      "    1o: ATVPDKIKX0DER\n",
      "    2o: A3UN6WX5RRO2AG\n",
      "    3o: A2HS1WB42BT31I\n",
      "    4o: A2DXBKKGZMCPS\n",
      "    5o: A2NJO6YE954DBH\n",
      "    6o: A3LZGLA88K0LA0\n",
      "    7o: A2W00XKTTF1G0Z\n",
      "    8o: A2XVRCU5DQBULH\n",
      "    9o: AI0OAQ6E2O8VF\n",
      "    10o: A375OT7C8ZJCNU\n",
      "\n",
      "10 clientes com mais comentários para Music :\n",
      "    1o: ATVPDKIKX0DER\n",
      "    2o: A3UN6WX5RRO2AG\n",
      "    3o: A2MOZZCTN2RJH3\n",
      "    4o: A9Q28YTLYREO7\n",
      "    5o: A2TLFXHJ4VMNL\n",
      "    6o: A2U49LUUY4IKQQ\n",
      "    7o: A2NJO6YE954DBH\n",
      "    8o: A1J5KCZC8CMW9I\n",
      "    9o: AZL0P9J95ON7D\n",
      "    10o: AWFDFLR1DA23A\n",
      "\n",
      "10 clientes com mais comentários para Toy :\n",
      "    1o: A2U1T90IOVPBAR\n",
      "    2o: AH16IHWEMA61J\n",
      "\n",
      "10 clientes com mais comentários para Video :\n",
      "    1o: ATVPDKIKX0DER\n",
      "    2o: A3UN6WX5RRO2AG\n",
      "    3o: A3LICJSZ281ZIJ\n",
      "    4o: A2NJO6YE954DBH\n",
      "    5o: A20IOTRKF4YRM7\n",
      "    6o: A1XSKG9PK6C21R\n",
      "    7o: A2UQIIJ2CD8REE\n",
      "    8o: A281NPSIMI1C2R\n",
      "    9o: AU8552YCOO5QX\n",
      "    10o: A2QRB6L1MCJ53G\n"
     ]
    }
   ],
   "source": [
    "dictClt = {}\n",
    "for i in result:\n",
    "    if i[1] not in dictClt:\n",
    "        dictClt[i[1]] = [[i[0],i[2]]]\n",
    "    else:\n",
    "        dictClt[i[1]].append([i[0],i[2]])\n",
    "\n",
    "for group in dictClt:\n",
    "    print(\"\\n10 clientes com mais comentários para {} :\".format(group))\n",
    "    clts = dictClt[group]\n",
    "    idx = 1\n",
    "    for clt in clts:\n",
    "        print(\"    {}o: {}\".format(idx,clt[0]))\n",
    "        idx += 1\n",
    "        \n",
    "\n",
    "# result = "
   ]
  },
  {
   "cell_type": "code",
   "execution_count": 78,
   "metadata": {},
   "outputs": [
    {
     "data": {
      "text/plain": [
       "[['ATVPDKIKX0DER', '5150'],\n",
       " ['A3UN6WX5RRO2AG', '887'],\n",
       " ['A14OJS0VWMOSWO', '71'],\n",
       " ['AFVQZQ8PW0L', '36'],\n",
       " ['A2BGGOF7MYBYOM', '24'],\n",
       " ['A1IX3X8IVQ237L', '20'],\n",
       " ['A3GBMAJNL0YQ1K', '20'],\n",
       " ['A2VNZA22F2QTD8', '18'],\n",
       " ['A1K1JW1C5CUSUZ', '15'],\n",
       " ['A2NJO6YE954DBH', '14']]"
      ]
     },
     "execution_count": 78,
     "metadata": {},
     "output_type": "execute_result"
    }
   ],
   "source": []
  },
  {
   "cell_type": "code",
   "execution_count": null,
   "metadata": {},
   "outputs": [],
   "source": []
  }
 ],
 "metadata": {
  "kernelspec": {
   "display_name": "Python 3",
   "language": "python",
   "name": "python3"
  },
  "language_info": {
   "codemirror_mode": {
    "name": "ipython",
    "version": 3
   },
   "file_extension": ".py",
   "mimetype": "text/x-python",
   "name": "python",
   "nbconvert_exporter": "python",
   "pygments_lexer": "ipython3",
   "version": "3.7.3"
  }
 },
 "nbformat": 4,
 "nbformat_minor": 4
}
