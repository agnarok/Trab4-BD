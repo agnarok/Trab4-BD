{
 "cells": [
  {
   "cell_type": "code",
   "execution_count": 35,
   "metadata": {},
   "outputs": [
    {
     "name": "stdout",
     "output_type": "stream",
     "text": [
      "15010574\n",
      "{'id': ' 548551', 'ASIN': 'B00005MHUG', 'title': \"That Travelin' Two-Beat/Sings the Great Country Hits\", 'group': 'Music', 'salesrank': '0', 'similar': '5  B00008OETQ  B00005O6KL  B00006RY87  B0002OTI98  B0000634HG', 'categories': '6', 'reviews': [{'customer_id': 'ABTSEEYVYQ52M', 'rating': 5, 'votes': 9, 'helpful': 9}]}\n"
     ]
    }
   ],
   "source": [
    "\n",
    "def get_line_number(file_path):\n",
    "    sys.stderr.write(\"Counting line number of {}\".format(file_path))\n",
    "    f = gzip.open(file_path)\n",
    "    lines = f.readlines()\n",
    "    count =0\n",
    "    \n",
    "    for line in lines:\n",
    "        count += 1\n",
    "    return count\n",
    "\n",
    "def parse(filename, total):\n",
    "    IGNORE_FIELDS = ['Total items', 'reviews']\n",
    "    f = open(filename, 'r')\n",
    "    lines = f.readlines()\n",
    "    entry = {}\n",
    "    categories = []\n",
    "    reviews = []\n",
    "    similar_items = []\n",
    "  \n",
    "    for line in lines[0:total]:\n",
    "        colonPos = line.find(':')\n",
    "\n",
    "        if line.startswith(\"Id\"):\n",
    "            if reviews:\n",
    "                entry[\"reviews\"] = reviews\n",
    "            if categories:\n",
    "                entry[\"categories\"] = categories\n",
    "            yield entry\n",
    "            entry = {}\n",
    "            categories = []\n",
    "            reviews = []\n",
    "            rest = line[colonPos+2:]\n",
    "            entry[\"id\"] = rest[1:-1]\n",
    "      \n",
    "        elif line.startswith(\"similar\"):\n",
    "            similar_items = line.split()[2:]\n",
    "            entry['similar_items'] = similar_items\n",
    "\n",
    "    # \"cutomer\" is typo of \"customer\" in original data\n",
    "        elif line.find(\"cutomer:\") != -1:\n",
    "            review_info = line.split()\n",
    "            reviews.append({'customer_id': review_info[2], \n",
    "                          'rating': int(review_info[4]), \n",
    "                          'votes': int(review_info[6]), \n",
    "                          'helpful': int(review_info[8])})\n",
    "\n",
    "        elif line.startswith(\"|\"):\n",
    "            categories.append(line)\n",
    "\n",
    "        elif colonPos != -1:\n",
    "            eName = line[:colonPos]\n",
    "            rest = line[colonPos+2:]\n",
    "            if not eName in IGNORE_FIELDS:\n",
    "                if eName[0] == ' ':\n",
    "                    eName = eName[2:]\n",
    "                entry[eName] = rest[0:-1]\n",
    "\n",
    "    if reviews:\n",
    "        entry[\"reviews\"] = reviews\n",
    "    if categories:\n",
    "        entry[\"categories\"] = categories\n",
    "    \n",
    "    yield entry\n",
    "\n",
    "\n",
    "file_path = \"data/amazon-meta.txt\"\n",
    "line_num = sum(1 for line in open(file_path))\n",
    "result = []\n",
    "print(line_num)\n",
    "for e in parse(file_path, total=line_num):\n",
    "    if e:\n",
    "        result.append(e)\n"
   ]
  },
  {
   "cell_type": "code",
   "execution_count": null,
   "metadata": {},
   "outputs": [],
   "source": []
  }
 ],
 "metadata": {
  "kernelspec": {
   "display_name": "Python 3",
   "language": "python",
   "name": "python3"
  },
  "language_info": {
   "codemirror_mode": {
    "name": "ipython",
    "version": 3
   },
   "file_extension": ".py",
   "mimetype": "text/x-python",
   "name": "python",
   "nbconvert_exporter": "python",
   "pygments_lexer": "ipython3",
   "version": "3.7.4"
  }
 },
 "nbformat": 4,
 "nbformat_minor": 4
}
